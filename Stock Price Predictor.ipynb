{
 "cells": [
  {
   "cell_type": "code",
   "execution_count": 1,
   "id": "8d301130",
   "metadata": {},
   "outputs": [],
   "source": [
    "import pandas as pd\n",
    "import numpy as np \n",
    "\n",
    "import yfinance as yf\n",
    "\n",
    "import seaborn as sns\n",
    "import matplotlib.pyplot as plt\n",
    "%matplotlib inline"
   ]
  },
  {
   "cell_type": "code",
   "execution_count": 3,
   "id": "928e4619",
   "metadata": {},
   "outputs": [
    {
     "name": "stdout",
     "output_type": "stream",
     "text": [
      "Enter the code of the stock:- NG=F\n",
      "[*********************100%***********************]  1 of 1 completed\n"
     ]
    },
    {
     "data": {
      "text/html": [
       "<div>\n",
       "<style scoped>\n",
       "    .dataframe tbody tr th:only-of-type {\n",
       "        vertical-align: middle;\n",
       "    }\n",
       "\n",
       "    .dataframe tbody tr th {\n",
       "        vertical-align: top;\n",
       "    }\n",
       "\n",
       "    .dataframe thead th {\n",
       "        text-align: right;\n",
       "    }\n",
       "</style>\n",
       "<table border=\"1\" class=\"dataframe\">\n",
       "  <thead>\n",
       "    <tr style=\"text-align: right;\">\n",
       "      <th></th>\n",
       "      <th>Open</th>\n",
       "      <th>High</th>\n",
       "      <th>Low</th>\n",
       "      <th>Close</th>\n",
       "      <th>Volume</th>\n",
       "    </tr>\n",
       "    <tr>\n",
       "      <th>Date</th>\n",
       "      <th></th>\n",
       "      <th></th>\n",
       "      <th></th>\n",
       "      <th></th>\n",
       "      <th></th>\n",
       "    </tr>\n",
       "  </thead>\n",
       "  <tbody>\n",
       "    <tr>\n",
       "      <th>2007-12-31</th>\n",
       "      <td>7.349</td>\n",
       "      <td>7.540</td>\n",
       "      <td>7.283</td>\n",
       "      <td>7.483</td>\n",
       "      <td>27299</td>\n",
       "    </tr>\n",
       "    <tr>\n",
       "      <th>2008-01-02</th>\n",
       "      <td>7.572</td>\n",
       "      <td>7.876</td>\n",
       "      <td>7.564</td>\n",
       "      <td>7.850</td>\n",
       "      <td>68553</td>\n",
       "    </tr>\n",
       "    <tr>\n",
       "      <th>2008-01-03</th>\n",
       "      <td>7.873</td>\n",
       "      <td>7.980</td>\n",
       "      <td>7.610</td>\n",
       "      <td>7.674</td>\n",
       "      <td>72742</td>\n",
       "    </tr>\n",
       "    <tr>\n",
       "      <th>2008-01-04</th>\n",
       "      <td>7.652</td>\n",
       "      <td>7.859</td>\n",
       "      <td>7.500</td>\n",
       "      <td>7.841</td>\n",
       "      <td>61496</td>\n",
       "    </tr>\n",
       "    <tr>\n",
       "      <th>2008-01-07</th>\n",
       "      <td>7.803</td>\n",
       "      <td>7.940</td>\n",
       "      <td>7.701</td>\n",
       "      <td>7.879</td>\n",
       "      <td>56675</td>\n",
       "    </tr>\n",
       "  </tbody>\n",
       "</table>\n",
       "</div>"
      ],
      "text/plain": [
       "             Open   High    Low  Close  Volume\n",
       "Date                                          \n",
       "2007-12-31  7.349  7.540  7.283  7.483   27299\n",
       "2008-01-02  7.572  7.876  7.564  7.850   68553\n",
       "2008-01-03  7.873  7.980  7.610  7.674   72742\n",
       "2008-01-04  7.652  7.859  7.500  7.841   61496\n",
       "2008-01-07  7.803  7.940  7.701  7.879   56675"
      ]
     },
     "execution_count": 3,
     "metadata": {},
     "output_type": "execute_result"
    }
   ],
   "source": [
    "stocks = input(\"Enter the code of the stock:- \")\n",
    "data = yf.download(stocks, \"2008-01-01\", \"2021-01-18\", auto_adjust=True)\n",
    "data.head()"
   ]
  },
  {
   "cell_type": "code",
   "execution_count": 4,
   "id": "823c8f73",
   "metadata": {},
   "outputs": [
    {
     "data": {
      "text/plain": [
       "(3283, 5)"
      ]
     },
     "execution_count": 4,
     "metadata": {},
     "output_type": "execute_result"
    }
   ],
   "source": [
    "data.shape"
   ]
  },
  {
   "cell_type": "code",
   "execution_count": 5,
   "id": "f893e44c",
   "metadata": {},
   "outputs": [
    {
     "name": "stdout",
     "output_type": "stream",
     "text": [
      "<class 'pandas.core.frame.DataFrame'>\n",
      "DatetimeIndex: 3283 entries, 2007-12-31 to 2021-01-15\n",
      "Data columns (total 5 columns):\n",
      " #   Column  Non-Null Count  Dtype  \n",
      "---  ------  --------------  -----  \n",
      " 0   Open    3283 non-null   float64\n",
      " 1   High    3283 non-null   float64\n",
      " 2   Low     3283 non-null   float64\n",
      " 3   Close   3283 non-null   float64\n",
      " 4   Volume  3283 non-null   int64  \n",
      "dtypes: float64(4), int64(1)\n",
      "memory usage: 153.9 KB\n"
     ]
    }
   ],
   "source": [
    "data.info()"
   ]
  },
  {
   "cell_type": "code",
   "execution_count": 7,
   "id": "01213119",
   "metadata": {},
   "outputs": [
    {
     "data": {
      "text/html": [
       "<div>\n",
       "<style scoped>\n",
       "    .dataframe tbody tr th:only-of-type {\n",
       "        vertical-align: middle;\n",
       "    }\n",
       "\n",
       "    .dataframe tbody tr th {\n",
       "        vertical-align: top;\n",
       "    }\n",
       "\n",
       "    .dataframe thead th {\n",
       "        text-align: right;\n",
       "    }\n",
       "</style>\n",
       "<table border=\"1\" class=\"dataframe\">\n",
       "  <thead>\n",
       "    <tr style=\"text-align: right;\">\n",
       "      <th></th>\n",
       "      <th>Open</th>\n",
       "      <th>High</th>\n",
       "      <th>Low</th>\n",
       "      <th>Close</th>\n",
       "      <th>Volume</th>\n",
       "    </tr>\n",
       "  </thead>\n",
       "  <tbody>\n",
       "    <tr>\n",
       "      <th>count</th>\n",
       "      <td>3283.000000</td>\n",
       "      <td>3283.000000</td>\n",
       "      <td>3283.000000</td>\n",
       "      <td>3283.000000</td>\n",
       "      <td>3283.000000</td>\n",
       "    </tr>\n",
       "    <tr>\n",
       "      <th>mean</th>\n",
       "      <td>3.714812</td>\n",
       "      <td>3.788431</td>\n",
       "      <td>3.636149</td>\n",
       "      <td>3.708224</td>\n",
       "      <td>131365.895218</td>\n",
       "    </tr>\n",
       "    <tr>\n",
       "      <th>std</th>\n",
       "      <td>1.831245</td>\n",
       "      <td>1.866609</td>\n",
       "      <td>1.790444</td>\n",
       "      <td>1.826208</td>\n",
       "      <td>54415.091229</td>\n",
       "    </tr>\n",
       "    <tr>\n",
       "      <th>min</th>\n",
       "      <td>1.441000</td>\n",
       "      <td>1.567000</td>\n",
       "      <td>1.432000</td>\n",
       "      <td>1.482000</td>\n",
       "      <td>0.000000</td>\n",
       "    </tr>\n",
       "    <tr>\n",
       "      <th>25%</th>\n",
       "      <td>2.691500</td>\n",
       "      <td>2.737000</td>\n",
       "      <td>2.644000</td>\n",
       "      <td>2.693000</td>\n",
       "      <td>91735.000000</td>\n",
       "    </tr>\n",
       "    <tr>\n",
       "      <th>50%</th>\n",
       "      <td>3.253000</td>\n",
       "      <td>3.313000</td>\n",
       "      <td>3.184000</td>\n",
       "      <td>3.242000</td>\n",
       "      <td>126609.000000</td>\n",
       "    </tr>\n",
       "    <tr>\n",
       "      <th>75%</th>\n",
       "      <td>4.158500</td>\n",
       "      <td>4.245000</td>\n",
       "      <td>4.068000</td>\n",
       "      <td>4.153000</td>\n",
       "      <td>161479.000000</td>\n",
       "    </tr>\n",
       "    <tr>\n",
       "      <th>max</th>\n",
       "      <td>13.580000</td>\n",
       "      <td>13.694000</td>\n",
       "      <td>13.306000</td>\n",
       "      <td>13.577000</td>\n",
       "      <td>459196.000000</td>\n",
       "    </tr>\n",
       "  </tbody>\n",
       "</table>\n",
       "</div>"
      ],
      "text/plain": [
       "              Open         High          Low        Close         Volume\n",
       "count  3283.000000  3283.000000  3283.000000  3283.000000    3283.000000\n",
       "mean      3.714812     3.788431     3.636149     3.708224  131365.895218\n",
       "std       1.831245     1.866609     1.790444     1.826208   54415.091229\n",
       "min       1.441000     1.567000     1.432000     1.482000       0.000000\n",
       "25%       2.691500     2.737000     2.644000     2.693000   91735.000000\n",
       "50%       3.253000     3.313000     3.184000     3.242000  126609.000000\n",
       "75%       4.158500     4.245000     4.068000     4.153000  161479.000000\n",
       "max      13.580000    13.694000    13.306000    13.577000  459196.000000"
      ]
     },
     "execution_count": 7,
     "metadata": {},
     "output_type": "execute_result"
    }
   ],
   "source": [
    "data.describe()"
   ]
  },
  {
   "cell_type": "code",
   "execution_count": 10,
   "id": "f65f2ca5",
   "metadata": {},
   "outputs": [
    {
     "data": {
      "image/png": "[encoded data removed]",
      "text/plain": [
       "<Figure size 720x504 with 1 Axes>"
      ]
     },
     "metadata": {
      "needs_background": "light"
     },
     "output_type": "display_data"
    }
   ],
   "source": [
    "data.Close.plot(figsize=(10, 7),color = \"r\")\n",
    "plt.ylabel(\"{} Prices\".format(stocks))\n",
    "plt.title(\"{} Price series\".format(stocks))\n",
    "plt.show()"
   ]
  },
  {
   "cell_type": "code",
   "execution_count": 11,
   "id": "c2c1e16c",
   "metadata": {},
   "outputs": [
    {
     "name": "stderr",
     "output_type": "stream",
     "text": [
      "C:\\Users\\Salome\\AppData\\Local\\Programs\\Python\\Python310\\lib\\site-packages\\seaborn\\distributions.py:2619: FutureWarning: `distplot` is a deprecated function and will be removed in a future version. Please adapt your code to use either `displot` (a figure-level function with similar flexibility) or `histplot` (an axes-level function for histograms).\n",
      "  warnings.warn(msg, FutureWarning)\n"
     ]
    },
    {
     "data": {
      "text/plain": [
       "<AxesSubplot:xlabel='Close', ylabel='Density'>"
      ]
     },
     "execution_count": 11,
     "metadata": {},
     "output_type": "execute_result"
    },
    {
     "data": {
      "image/png": "[encoded data removed]",
      "text/plain": [
       "<Figure size 432x288 with 1 Axes>"
      ]
     },
     "metadata": {
      "needs_background": "light"
     },
     "output_type": "display_data"
    }
   ],
   "source": [
    "sns.distplot(data[\"Close\"])"
   ]
  },
  {
   "cell_type": "code",
   "execution_count": 12,
   "id": "555b3711",
   "metadata": {},
   "outputs": [
    {
     "name": "stderr",
     "output_type": "stream",
     "text": [
      "C:\\Users\\Salome\\AppData\\Local\\Programs\\Python\\Python310\\lib\\site-packages\\seaborn\\distributions.py:2619: FutureWarning: `distplot` is a deprecated function and will be removed in a future version. Please adapt your code to use either `displot` (a figure-level function with similar flexibility) or `histplot` (an axes-level function for histograms).\n",
      "  warnings.warn(msg, FutureWarning)\n"
     ]
    },
    {
     "data": {
      "text/plain": [
       "<AxesSubplot:xlabel='Open', ylabel='Density'>"
      ]
     },
     "execution_count": 12,
     "metadata": {},
     "output_type": "execute_result"
    },
    {
     "data": {
      "image/png": "[encoded data removed]",
      "text/plain": [
       "<Figure size 432x288 with 1 Axes>"
      ]
     },
     "metadata": {
      "needs_background": "light"
     },
     "output_type": "display_data"
    }
   ],
   "source": [
    "sns.distplot(data[\"Open\"])"
   ]
  },
  {
   "cell_type": "code",
   "execution_count": 15,
   "id": "27106e2a",
   "metadata": {},
   "outputs": [
    {
     "name": "stdout",
     "output_type": "stream",
     "text": [
      "(2626, 4)\n",
      "(2626,)\n",
      "(657, 4)\n",
      "(657,)\n"
     ]
    }
   ],
   "source": [
    "#shape of the data\n",
    "#how data is distributed\n",
    "#its is very nonlinear-stock price prediction is very nonlinear\n",
    "\n",
    "#linear regression, logistic regression, regularized regression techniques, svm (support vector machine)\n",
    "\n",
    "X =data.drop(\"Close\", axis = 1)\n",
    "y = data[\"Close\"]\n",
    "\n",
    "from sklearn.model_selection import train_test_split\n",
    "\n",
    "X_train, X_test, y_train, y_test = train_test_split(X, y, test_size=0.2, random_state = 0)\n",
    "print(X_train.shape)\n",
    "print(y_train.shape)\n",
    "print(X_test.shape)\n",
    "print(y_test.shape)\n",
    "\n"
   ]
  },
  {
   "cell_type": "code",
   "execution_count": 18,
   "id": "efbbc732",
   "metadata": {},
   "outputs": [
    {
     "name": "stdout",
     "output_type": "stream",
     "text": [
      "[ 2.69263125  5.62775289  2.67593446  5.70059119  3.7941102  13.2233934\n",
      "  3.96973992  1.84058023  1.79578996  1.92988411  2.48501196  3.27902664\n",
      "  2.87223557  2.97788951  4.26721237  2.57749429  3.44524095  2.72173285\n",
      "  9.00107585  3.61963762  1.7802419   2.66344549  2.54589019  2.91238601\n",
      "  2.3834322   3.21828194  3.68985393  3.88874655  2.89436113  1.82668276\n",
      "  4.02022772  2.99235628 11.50173894  4.37936147  4.42032125  2.6264692\n",
      "  3.52318183  5.47030452  3.79465214  3.42236918  3.97028677  2.70335735\n",
      "  1.87448306  2.6098818   1.92071192  1.74599183  4.21605553  2.98374319\n",
      "  3.85474126  1.99358448  4.08094844  3.5786507   2.48258324  4.10339979\n",
      "  1.92736655  3.23535888  4.54311568  5.059409    1.85311728  3.27418655\n",
      "  2.92296426  4.0916382   4.79600944  2.70006357  4.825725    2.20432073\n",
      "  4.3684868   3.08206643  2.83099057  2.11235998  4.75093495  2.72114503\n",
      "  1.8452126   3.47763478  8.15124536  3.27627993  4.66440381  4.37075016\n",
      "  3.94807359  1.7801768   2.9604658   2.18229184  7.7437557   3.31674087\n",
      "  2.76353212  2.51273981  2.94634125  3.75838362  4.34972827  2.58462476\n",
      "  3.80664478 12.78210315  3.40247751  3.69374302  3.84054268  2.96168768\n",
      "  4.32976866  3.02823601  2.80991576  3.02461798  2.80116096  3.67890104\n",
      "  3.9291812   2.94410713  3.15704388  3.00145004  2.60681146  2.8230724\n",
      "  2.96157101  3.94586823  6.53600547  3.77081291  3.55493811  3.01197155\n",
      "  1.86472129  4.71636443  3.98662261  2.78078605  3.48795702  3.29710752\n",
      "  2.92801018  5.38995093  2.54415417  2.61119496  2.94574615  2.1791503\n",
      "  4.57429678  4.85289852  4.20437508  4.07809458  3.29207106  6.75071844\n",
      "  4.46819402  4.29887048  3.60287405  3.04495912  3.93141485  3.61737897\n",
      "  1.98399334  4.01759467  3.14192363  3.11339706  5.80707517  2.81026661\n",
      "  2.82272751  1.70956776  4.64475276  3.57220749  2.94999446  2.66348289\n",
      "  5.11506314  2.95028482  2.15295537  4.44829416  1.76683133  3.83791297\n",
      "  2.89211264  2.91873604  4.65221325  3.52043641  4.31626134  2.22633559\n",
      "  2.26580034  4.24117769  3.28151609  4.13469213  3.74155747  1.97077745\n",
      "  7.06518007  2.90255427  3.13528062  2.8148709   2.94799889  3.24125875\n",
      "  3.76657391  1.71472526  3.71459301  3.23424423  2.49481248  8.47304265\n",
      "  2.82664857  2.77202881  2.68792974  4.57871753  3.94608746  4.07075111\n",
      "  1.73360388  2.96914447  2.96053767  9.21240026  3.71872805  2.74372834\n",
      "  2.72100607  2.73893243  2.14488721  7.35955032  3.84807495  4.6559933\n",
      "  2.73548645  4.00357704  2.79618724  5.55893101  3.40187389  4.03585322\n",
      "  2.93376297  3.48473091  2.56764611  5.4739742   4.33055361  3.97860179\n",
      "  4.52445234  3.78430412  3.5653619   3.50142408  3.32264688  4.48591992\n",
      "  3.5748099   2.66943589  3.19682407  5.5111509   3.60855861  3.12593547\n",
      "  3.88950935  3.20592302  4.43404027  2.9332214   5.1212414   2.88685078\n",
      "  4.40379024  3.23659438  4.10642175  3.15897615  4.64957811  3.08175885\n",
      "  4.68034476  3.95066788  4.12795934  1.77880539  2.25160899  2.58551459\n",
      "  4.22983557  4.97656147  3.73547013  2.08976424  2.07064399  4.03330542\n",
      "  3.07499069  4.30398807  2.29876236  4.31782731  4.73646757  2.89213427\n",
      "  3.30295063  3.69031917  2.07210804  2.88621718  3.97591385  6.32236114\n",
      "  3.32695807  3.87840711  2.90414675  2.81205206  4.07484616  4.22716026\n",
      "  8.39839553  6.60021761  2.55215117 13.34293677  2.60745608  4.04698994\n",
      "  2.30977778  3.96666093  3.87204437  2.82158449  3.8625536  11.75015584\n",
      "  3.78338739  3.82087472  4.40479957  2.77752016  3.28632968  3.98217795\n",
      "  3.98193099  2.96039698  9.98427326  2.76225047  2.38188438  4.05591524\n",
      "  3.73665695  3.1497263   3.3613097   4.2769664   4.34477488  2.27311102\n",
      "  2.98493905  4.3879116   3.52126325  5.72260846  7.2965392   2.70846244\n",
      "  2.44772923  2.55713581  3.46440472  4.38341315  2.33625483  1.85079796\n",
      "  8.96054982  2.10801728  3.12209272  2.55385147  2.53615152  2.68949614\n",
      "  2.11909378  2.03776585  2.93492933  3.95663504  3.03856724  6.43531464\n",
      "  3.92745879  2.34580984  4.12853372  1.96691292  2.81688928  3.47250985\n",
      "  3.55112856  2.26315654  3.62130821  3.83692295  3.59364401  7.81899611\n",
      "  3.98230358  2.16474283  2.79023328  5.52855817  2.82906961  4.874449\n",
      "  4.25498042  2.89095003  4.21534073  1.97054018  3.70926773  2.31789569\n",
      "  4.04572275  2.97669492  4.39921516  4.46249996  2.21549193  4.86798171\n",
      "  2.41025663  1.96509123  2.87610129  4.57457212  3.58842225  3.78785189\n",
      "  4.60094397  4.39758843  2.6536434   2.76057985  1.66075829  2.61946794\n",
      "  4.77746459  2.2009913   3.41054176  2.94076186  2.78479744  7.93068918\n",
      "  4.27709399  6.46410845  2.81984005  3.03946281  3.60755107  9.94496426\n",
      "  4.23774276  2.95180264  4.84198943  2.73547588  4.21568758  4.62326964\n",
      "  2.4521481   2.9149691   4.04004225  2.85408128  3.38700412  2.32790531\n",
      "  3.96092807  4.15057039  2.55438253  4.53788473  2.27552434  4.44338235\n",
      "  2.704272    3.00881925  2.12651465  1.79032557  2.9968231   2.93271611\n",
      "  4.68457187  2.94357938  1.81105436  3.86450364  3.12097303  3.20666927\n",
      "  2.82928916  3.26020703  3.62857038  4.36317099  3.14874799  2.51882218\n",
      "  3.75890374  4.49069406  2.6321197   2.96384698  2.71894112  7.90361328\n",
      "  3.49016249  2.86031142  3.95343263  4.86355483  2.10823829  3.37154935\n",
      "  3.01756679  2.70726486 10.70334405  3.75456139  2.34626702  5.91958853\n",
      "  6.8944362   4.3802382   2.89847986  2.25180349  4.43317986  7.83387346\n",
      "  3.57519889  2.65198122  2.66013604  6.75799157  2.59976025  2.80282384\n",
      "  3.44393384  3.64330147  2.72223458  2.75834724  2.66726028  7.59435969\n",
      "  2.87600989  1.95989823  4.84420716  3.60662308  2.5841773   2.87491429\n",
      "  2.59878202  2.65034392  2.70587956  3.6526978   3.95562043  4.01988477\n",
      "  4.00431123  2.89211561  2.81934851  2.00042819  3.83141564  2.15668752\n",
      "  3.61598605  2.8822232   3.93619865  2.65149642  2.40936364  2.67368316\n",
      "  2.59761909  2.93649228  2.5753886   3.25751636  2.77535572  2.32164973\n",
      "  2.05880725  2.50259036  3.06903066  3.86087037  7.4789286   3.9327559\n",
      "  2.72626504  5.04413551  1.80602281  3.19951972  4.69324079  1.69591195\n",
      "  1.63462727  3.70428613  3.3315796   4.2949788   3.92611441  4.64599714\n",
      "  2.78199457  2.79196916  2.64675224  2.81553052  5.12535329  1.61966259\n",
      "  2.78463447  2.6313791   5.73077525  9.92777836  3.87773547  2.77422835\n",
      "  1.8698557   4.28844476  3.89138756  7.64799782  2.01497379  2.38721263\n",
      "  4.03919573  7.33183198  3.08786612  2.95700686  3.93531012  2.27429584\n",
      "  2.01458171  3.86187009  2.72011342  3.16491265  2.65368031  3.49195146\n",
      "  3.54718869  3.76027965  2.61670259  2.246432    4.04642821  2.12898876\n",
      "  1.83518713  1.73851678  2.20124632  3.30133965  2.62322627  3.14995048\n",
      "  2.81465095  4.62141695  2.63038617  3.4966238   4.43203648  2.61825118\n",
      "  2.82030809  5.3230002   3.57786366  2.80288409  4.48885915  3.56952511\n",
      "  3.23247804  4.24141489  3.25035616  3.81102593  4.57141992  4.06384796\n",
      "  2.74713915  5.34179226  2.44275271  2.46498244  3.37201865  2.03379478\n",
      "  3.63674816  2.97865293  8.32294321  2.65116623  2.75489742  1.6796716\n",
      "  3.45312627 10.16863675  1.65437814  8.44032285  1.65610743  3.43394218\n",
      "  4.12342021  4.39082182  3.28599985  2.51092922  2.76738038  2.97629094\n",
      "  5.46641817  1.83515553  2.26893739  2.76001051  4.34487196  2.04776951\n",
      "  2.78081654  3.63977676  2.90862363  2.76013609  3.8415453   1.71271753\n",
      "  3.06799704  4.77960864  2.66460798  3.6920427   4.60556573  2.21860014\n",
      "  6.85276676  3.81656874  2.79697845  3.21343344  3.36480049  3.88668169\n",
      "  2.03497746  6.05957165  1.95544562  3.90130379  2.17145381  3.66624385\n",
      "  1.90194302  2.53741106 10.64420897  2.10722093  3.37802673  4.98134894\n",
      "  3.88820035  4.02241932  1.80635165  5.48760667  5.64316386  1.86663116\n",
      "  5.76354661  2.96640299  3.91481109  1.89063083  2.67218912  2.66461257\n",
      "  1.9841022   3.52632393  2.2958661   1.83841765  2.85374411  4.10515696\n",
      "  1.70948937  3.50508871  9.39269065  3.58942933  2.1717794   3.28301604\n",
      "  3.04684908  1.70628727  3.07131665  2.96665319  2.38074821  4.621412\n",
      "  8.81998949  2.49296893  2.520397    3.00233642  3.18080201  2.39026585\n",
      "  2.69501399  5.85139026  2.53198949  3.6151183   4.34982586  3.48169889\n",
      "  2.68309362  2.93988027  4.09505494]\n"
     ]
    }
   ],
   "source": [
    "from sklearn.linear_model import LinearRegression\n",
    "\n",
    "lr = LinearRegression()\n",
    "lr.fit(X_train, y_train)\n",
    "pred1 = lr.predict(X_test)\n",
    "\n",
    "print(pred1)"
   ]
  },
  {
   "cell_type": "code",
   "execution_count": 22,
   "id": "d7738da4",
   "metadata": {},
   "outputs": [
    {
     "name": "stdout",
     "output_type": "stream",
     "text": [
      "MSE:  0.0013865447236433984\n",
      "RMSE:  0.03723633606631295\n",
      "MAE:  0.025674679413868206\n",
      "r2_score 0.999492007193048\n"
     ]
    }
   ],
   "source": [
    "#calculating the strength of the \n",
    "#linear regression model on the data set given\n",
    "from sklearn.metrics import mean_squared_error, mean_absolute_error, r2_score\n",
    "\n",
    "def calculate_metrics(pred1, y_test):\n",
    "    mse = mean_squared_error(pred1, y_test)\n",
    "    mae = mean_absolute_error(pred1, y_test)\n",
    "    rmse = np.sqrt(mse)\n",
    "    r2_scor = r2_score(pred1, y_test)\n",
    "    \n",
    "    print(\"MSE: \", mse)\n",
    "    print(\"RMSE: \", rmse)\n",
    "    print(\"MAE: \", mae)\n",
    "    print(\"r2_score\", r2_scor)\n",
    "    \n",
    "calculate_metrics(pred1, y_test)"
   ]
  },
  {
   "cell_type": "code",
   "execution_count": 23,
   "id": "11a9a4f6",
   "metadata": {},
   "outputs": [
    {
     "name": "stdout",
     "output_type": "stream",
     "text": [
      "MSE:  0.2308019154905662\n",
      "RMSE:  0.48041847954732775\n",
      "MAE:  0.3254703605629072\n",
      "r2_score 0.8441103252547912\n"
     ]
    }
   ],
   "source": [
    "from sklearn.linear_model import Lasso, Ridge\n",
    "\n",
    "las = Lasso()\n",
    "las.fit(X_train, y_train)\n",
    "pred = las.predict(X_test)\n",
    "\n",
    "calculate_metrics(pred, y_test)\n"
   ]
  },
  {
   "cell_type": "code",
   "execution_count": 24,
   "id": "d95a1cd4",
   "metadata": {},
   "outputs": [
    {
     "name": "stdout",
     "output_type": "stream",
     "text": [
      "MSE:  0.001448547900692366\n",
      "RMSE:  0.03805979375525262\n",
      "MAE:  0.02723926052561311\n",
      "r2_score 0.9994693039284244\n"
     ]
    }
   ],
   "source": [
    "rid = Ridge()\n",
    "rid.fit(X_train, y_train)\n",
    "pred2 = rid.predict(X_test)\n",
    "\n",
    "calculate_metrics(pred2, y_test)"
   ]
  },
  {
   "cell_type": "code",
   "execution_count": 25,
   "id": "f624423d",
   "metadata": {},
   "outputs": [
    {
     "name": "stdout",
     "output_type": "stream",
     "text": [
      "Fitting 5 folds for each of 25 candidates, totalling 125 fits\n",
      "[CV 1/5] END .......C=0.1, gamma=1, kernel=rbf;, score=-0.080 total time=   0.9s\n",
      "[CV 2/5] END .......C=0.1, gamma=1, kernel=rbf;, score=-0.071 total time=   0.9s\n",
      "[CV 3/5] END .......C=0.1, gamma=1, kernel=rbf;, score=-0.064 total time=   0.8s\n",
      "[CV 4/5] END .......C=0.1, gamma=1, kernel=rbf;, score=-0.067 total time=   0.9s\n",
      "[CV 5/5] END .......C=0.1, gamma=1, kernel=rbf;, score=-0.043 total time=   0.8s\n",
      "[CV 1/5] END .....C=0.1, gamma=0.1, kernel=rbf;, score=-0.080 total time=   0.9s\n",
      "[CV 2/5] END .....C=0.1, gamma=0.1, kernel=rbf;, score=-0.070 total time=   0.9s\n",
      "[CV 3/5] END .....C=0.1, gamma=0.1, kernel=rbf;, score=-0.063 total time=   0.8s\n",
      "[CV 4/5] END .....C=0.1, gamma=0.1, kernel=rbf;, score=-0.067 total time=   0.8s\n",
      "[CV 5/5] END .....C=0.1, gamma=0.1, kernel=rbf;, score=-0.042 total time=   0.9s\n",
      "[CV 1/5] END ....C=0.1, gamma=0.01, kernel=rbf;, score=-0.080 total time=   0.9s\n",
      "[CV 2/5] END ....C=0.1, gamma=0.01, kernel=rbf;, score=-0.071 total time=   0.9s\n",
      "[CV 3/5] END ....C=0.1, gamma=0.01, kernel=rbf;, score=-0.062 total time=   0.9s\n",
      "[CV 4/5] END ....C=0.1, gamma=0.01, kernel=rbf;, score=-0.067 total time=   0.9s\n",
      "[CV 5/5] END ....C=0.1, gamma=0.01, kernel=rbf;, score=-0.041 total time=   0.9s\n",
      "[CV 1/5] END ...C=0.1, gamma=0.001, kernel=rbf;, score=-0.074 total time=   0.9s\n",
      "[CV 2/5] END ...C=0.1, gamma=0.001, kernel=rbf;, score=-0.066 total time=   0.8s\n",
      "[CV 3/5] END ...C=0.1, gamma=0.001, kernel=rbf;, score=-0.056 total time=   0.9s\n",
      "[CV 4/5] END ...C=0.1, gamma=0.001, kernel=rbf;, score=-0.064 total time=   0.9s\n",
      "[CV 5/5] END ...C=0.1, gamma=0.001, kernel=rbf;, score=-0.036 total time=   0.9s\n",
      "[CV 1/5] END ..C=0.1, gamma=0.0001, kernel=rbf;, score=-0.054 total time=   0.9s\n",
      "[CV 2/5] END ..C=0.1, gamma=0.0001, kernel=rbf;, score=-0.050 total time=   0.9s\n",
      "[CV 3/5] END ..C=0.1, gamma=0.0001, kernel=rbf;, score=-0.041 total time=   0.9s\n",
      "[CV 4/5] END ..C=0.1, gamma=0.0001, kernel=rbf;, score=-0.052 total time=   0.8s\n",
      "[CV 5/5] END ..C=0.1, gamma=0.0001, kernel=rbf;, score=-0.027 total time=   0.8s\n",
      "[CV 1/5] END .........C=1, gamma=1, kernel=rbf;, score=-0.045 total time=   1.5s\n",
      "[CV 2/5] END .........C=1, gamma=1, kernel=rbf;, score=-0.041 total time=   1.6s\n",
      "[CV 3/5] END .........C=1, gamma=1, kernel=rbf;, score=-0.035 total time=   1.0s\n",
      "[CV 4/5] END .........C=1, gamma=1, kernel=rbf;, score=-0.039 total time=   1.2s\n",
      "[CV 5/5] END .........C=1, gamma=1, kernel=rbf;, score=-0.018 total time=   1.1s\n",
      "[CV 1/5] END .......C=1, gamma=0.1, kernel=rbf;, score=-0.043 total time=   1.0s\n",
      "[CV 2/5] END .......C=1, gamma=0.1, kernel=rbf;, score=-0.041 total time=   1.6s\n",
      "[CV 3/5] END .......C=1, gamma=0.1, kernel=rbf;, score=-0.034 total time=   1.6s\n",
      "[CV 4/5] END .......C=1, gamma=0.1, kernel=rbf;, score=-0.039 total time=   1.7s\n",
      "[CV 5/5] END .......C=1, gamma=0.1, kernel=rbf;, score=-0.018 total time=   1.3s\n",
      "[CV 1/5] END ......C=1, gamma=0.01, kernel=rbf;, score=-0.045 total time=   1.0s\n",
      "[CV 2/5] END ......C=1, gamma=0.01, kernel=rbf;, score=-0.044 total time=   0.9s\n",
      "[CV 3/5] END ......C=1, gamma=0.01, kernel=rbf;, score=-0.035 total time=   0.9s\n",
      "[CV 4/5] END ......C=1, gamma=0.01, kernel=rbf;, score=-0.039 total time=   0.9s\n",
      "[CV 5/5] END ......C=1, gamma=0.01, kernel=rbf;, score=-0.012 total time=   0.9s\n",
      "[CV 1/5] END .....C=1, gamma=0.001, kernel=rbf;, score=-0.048 total time=   1.2s\n",
      "[CV 2/5] END .....C=1, gamma=0.001, kernel=rbf;, score=-0.051 total time=   1.7s\n",
      "[CV 3/5] END .....C=1, gamma=0.001, kernel=rbf;, score=-0.034 total time=   1.1s\n",
      "[CV 4/5] END .....C=1, gamma=0.001, kernel=rbf;, score=-0.040 total time=   1.0s\n",
      "[CV 5/5] END .....C=1, gamma=0.001, kernel=rbf;, score=-0.025 total time=   1.0s\n",
      "[CV 1/5] END ....C=1, gamma=0.0001, kernel=rbf;, score=-0.010 total time=   0.9s\n",
      "[CV 2/5] END ....C=1, gamma=0.0001, kernel=rbf;, score=-0.053 total time=   0.9s\n",
      "[CV 3/5] END ....C=1, gamma=0.0001, kernel=rbf;, score=-0.011 total time=   1.1s\n",
      "[CV 4/5] END ....C=1, gamma=0.0001, kernel=rbf;, score=-0.028 total time=   1.0s\n",
      "[CV 5/5] END ....C=1, gamma=0.0001, kernel=rbf;, score=-0.032 total time=   1.0s\n",
      "[CV 1/5] END .........C=10, gamma=1, kernel=rbf;, score=0.001 total time=   1.1s\n",
      "[CV 2/5] END .........C=10, gamma=1, kernel=rbf;, score=0.002 total time=   1.1s\n",
      "[CV 3/5] END .........C=10, gamma=1, kernel=rbf;, score=0.002 total time=   1.1s\n",
      "[CV 4/5] END .........C=10, gamma=1, kernel=rbf;, score=0.000 total time=   1.1s\n",
      "[CV 5/5] END ........C=10, gamma=1, kernel=rbf;, score=-0.008 total time=   1.1s\n",
      "[CV 1/5] END .......C=10, gamma=0.1, kernel=rbf;, score=0.003 total time=   1.2s\n",
      "[CV 2/5] END .......C=10, gamma=0.1, kernel=rbf;, score=0.003 total time=   1.1s\n",
      "[CV 3/5] END .......C=10, gamma=0.1, kernel=rbf;, score=0.004 total time=   1.1s\n",
      "[CV 4/5] END .......C=10, gamma=0.1, kernel=rbf;, score=0.002 total time=   1.0s\n",
      "[CV 5/5] END ......C=10, gamma=0.1, kernel=rbf;, score=-0.005 total time=   1.1s\n",
      "[CV 1/5] END ......C=10, gamma=0.01, kernel=rbf;, score=0.000 total time=   1.1s\n",
      "[CV 2/5] END ......C=10, gamma=0.01, kernel=rbf;, score=0.015 total time=   1.1s\n",
      "[CV 3/5] END ......C=10, gamma=0.01, kernel=rbf;, score=0.014 total time=   1.1s\n",
      "[CV 4/5] END ......C=10, gamma=0.01, kernel=rbf;, score=0.016 total time=   1.1s\n",
      "[CV 5/5] END .....C=10, gamma=0.01, kernel=rbf;, score=-0.004 total time=   1.2s\n",
      "[CV 1/5] END ....C=10, gamma=0.001, kernel=rbf;, score=-0.081 total time=   1.4s\n",
      "[CV 2/5] END ....C=10, gamma=0.001, kernel=rbf;, score=-0.123 total time=   1.2s\n",
      "[CV 3/5] END ....C=10, gamma=0.001, kernel=rbf;, score=-0.200 total time=   1.1s\n",
      "[CV 4/5] END ....C=10, gamma=0.001, kernel=rbf;, score=-0.086 total time=   1.1s\n",
      "[CV 5/5] END ....C=10, gamma=0.001, kernel=rbf;, score=-0.129 total time=   1.1s\n",
      "[CV 1/5] END ...C=10, gamma=0.0001, kernel=rbf;, score=-0.199 total time=   1.3s\n",
      "[CV 2/5] END ...C=10, gamma=0.0001, kernel=rbf;, score=-0.207 total time=   1.2s\n",
      "[CV 3/5] END ...C=10, gamma=0.0001, kernel=rbf;, score=-0.329 total time=   1.3s\n",
      "[CV 4/5] END ...C=10, gamma=0.0001, kernel=rbf;, score=-0.262 total time=   1.2s\n",
      "[CV 5/5] END ...C=10, gamma=0.0001, kernel=rbf;, score=-0.360 total time=   1.2s\n",
      "[CV 1/5] END ........C=100, gamma=1, kernel=rbf;, score=0.001 total time=   1.0s\n",
      "[CV 2/5] END ........C=100, gamma=1, kernel=rbf;, score=0.002 total time=   1.0s\n",
      "[CV 3/5] END ........C=100, gamma=1, kernel=rbf;, score=0.002 total time=   1.0s\n",
      "[CV 4/5] END ........C=100, gamma=1, kernel=rbf;, score=0.000 total time=   1.0s\n",
      "[CV 5/5] END .......C=100, gamma=1, kernel=rbf;, score=-0.008 total time=   1.0s\n",
      "[CV 1/5] END ......C=100, gamma=0.1, kernel=rbf;, score=0.003 total time=   1.1s\n",
      "[CV 2/5] END ......C=100, gamma=0.1, kernel=rbf;, score=0.003 total time=   1.1s\n",
      "[CV 3/5] END ......C=100, gamma=0.1, kernel=rbf;, score=0.004 total time=   1.1s\n",
      "[CV 4/5] END ......C=100, gamma=0.1, kernel=rbf;, score=0.002 total time=   1.0s\n",
      "[CV 5/5] END .....C=100, gamma=0.1, kernel=rbf;, score=-0.005 total time=   1.0s\n",
      "[CV 1/5] END .....C=100, gamma=0.01, kernel=rbf;, score=0.000 total time=   1.1s\n",
      "[CV 2/5] END .....C=100, gamma=0.01, kernel=rbf;, score=0.015 total time=   1.1s\n",
      "[CV 3/5] END .....C=100, gamma=0.01, kernel=rbf;, score=0.014 total time=   1.1s\n",
      "[CV 4/5] END .....C=100, gamma=0.01, kernel=rbf;, score=0.016 total time=   1.1s\n",
      "[CV 5/5] END ....C=100, gamma=0.01, kernel=rbf;, score=-0.004 total time=   1.1s\n",
      "[CV 1/5] END ...C=100, gamma=0.001, kernel=rbf;, score=-0.119 total time=   1.4s\n",
      "[CV 2/5] END ...C=100, gamma=0.001, kernel=rbf;, score=-0.149 total time=   1.4s\n",
      "[CV 3/5] END ...C=100, gamma=0.001, kernel=rbf;, score=-0.235 total time=   1.4s\n",
      "[CV 4/5] END ...C=100, gamma=0.001, kernel=rbf;, score=-0.099 total time=   1.5s\n",
      "[CV 5/5] END ...C=100, gamma=0.001, kernel=rbf;, score=-0.144 total time=   1.5s\n",
      "[CV 1/5] END ..C=100, gamma=0.0001, kernel=rbf;, score=-0.808 total time=   2.9s\n",
      "[CV 2/5] END ..C=100, gamma=0.0001, kernel=rbf;, score=-0.573 total time=   2.5s\n",
      "[CV 3/5] END ..C=100, gamma=0.0001, kernel=rbf;, score=-0.895 total time=   2.9s\n",
      "[CV 4/5] END ..C=100, gamma=0.0001, kernel=rbf;, score=-0.735 total time=   2.8s\n",
      "[CV 5/5] END ..C=100, gamma=0.0001, kernel=rbf;, score=-1.040 total time=   3.2s\n",
      "[CV 1/5] END .......C=1000, gamma=1, kernel=rbf;, score=0.001 total time=   1.7s\n"
     ]
    },
    {
     "name": "stdout",
     "output_type": "stream",
     "text": [
      "[CV 2/5] END .......C=1000, gamma=1, kernel=rbf;, score=0.002 total time=   1.6s\n",
      "[CV 3/5] END .......C=1000, gamma=1, kernel=rbf;, score=0.002 total time=   1.7s\n",
      "[CV 4/5] END .......C=1000, gamma=1, kernel=rbf;, score=0.000 total time=   1.3s\n",
      "[CV 5/5] END ......C=1000, gamma=1, kernel=rbf;, score=-0.008 total time=   1.4s\n",
      "[CV 1/5] END .....C=1000, gamma=0.1, kernel=rbf;, score=0.003 total time=   1.5s\n",
      "[CV 2/5] END .....C=1000, gamma=0.1, kernel=rbf;, score=0.003 total time=   1.5s\n",
      "[CV 3/5] END .....C=1000, gamma=0.1, kernel=rbf;, score=0.004 total time=   1.6s\n",
      "[CV 4/5] END .....C=1000, gamma=0.1, kernel=rbf;, score=0.002 total time=   1.3s\n",
      "[CV 5/5] END ....C=1000, gamma=0.1, kernel=rbf;, score=-0.005 total time=   1.3s\n",
      "[CV 1/5] END ....C=1000, gamma=0.01, kernel=rbf;, score=0.000 total time=   1.3s\n",
      "[CV 2/5] END ....C=1000, gamma=0.01, kernel=rbf;, score=0.015 total time=   1.3s\n",
      "[CV 3/5] END ....C=1000, gamma=0.01, kernel=rbf;, score=0.014 total time=   1.1s\n",
      "[CV 4/5] END ....C=1000, gamma=0.01, kernel=rbf;, score=0.016 total time=   1.1s\n",
      "[CV 5/5] END ...C=1000, gamma=0.01, kernel=rbf;, score=-0.004 total time=   1.1s\n",
      "[CV 1/5] END ..C=1000, gamma=0.001, kernel=rbf;, score=-0.123 total time=   1.6s\n",
      "[CV 2/5] END ..C=1000, gamma=0.001, kernel=rbf;, score=-0.148 total time=   1.5s\n",
      "[CV 3/5] END ..C=1000, gamma=0.001, kernel=rbf;, score=-0.238 total time=   1.5s\n",
      "[CV 4/5] END ..C=1000, gamma=0.001, kernel=rbf;, score=-0.100 total time=   1.5s\n",
      "[CV 5/5] END ..C=1000, gamma=0.001, kernel=rbf;, score=-0.145 total time=   1.4s\n",
      "[CV 1/5] END .C=1000, gamma=0.0001, kernel=rbf;, score=-0.965 total time=  12.6s\n",
      "[CV 2/5] END .C=1000, gamma=0.0001, kernel=rbf;, score=-0.832 total time=  12.4s\n",
      "[CV 3/5] END .C=1000, gamma=0.0001, kernel=rbf;, score=-1.393 total time=  11.8s\n",
      "[CV 4/5] END .C=1000, gamma=0.0001, kernel=rbf;, score=-0.880 total time=  14.5s\n",
      "[CV 5/5] END .C=1000, gamma=0.0001, kernel=rbf;, score=-1.229 total time=  13.3s\n"
     ]
    },
    {
     "data": {
      "text/html": [
       "<style>#sk-container-id-1 {color: black;background-color: white;}#sk-container-id-1 pre{padding: 0;}#sk-container-id-1 div.sk-toggleable {background-color: white;}#sk-container-id-1 label.sk-toggleable__label {cursor: pointer;display: block;width: 100%;margin-bottom: 0;padding: 0.3em;box-sizing: border-box;text-align: center;}#sk-container-id-1 label.sk-toggleable__label-arrow:before {content: \"▸\";float: left;margin-right: 0.25em;color: #696969;}#sk-container-id-1 label.sk-toggleable__label-arrow:hover:before {color: black;}#sk-container-id-1 div.sk-estimator:hover label.sk-toggleable__label-arrow:before {color: black;}#sk-container-id-1 div.sk-toggleable__content {max-height: 0;max-width: 0;overflow: hidden;text-align: left;background-color: #f0f8ff;}#sk-container-id-1 div.sk-toggleable__content pre {margin: 0.2em;color: black;border-radius: 0.25em;background-color: #f0f8ff;}#sk-container-id-1 input.sk-toggleable__control:checked~div.sk-toggleable__content {max-height: 200px;max-width: 100%;overflow: auto;}#sk-container-id-1 input.sk-toggleable__control:checked~label.sk-toggleable__label-arrow:before {content: \"▾\";}#sk-container-id-1 div.sk-estimator input.sk-toggleable__control:checked~label.sk-toggleable__label {background-color: #d4ebff;}#sk-container-id-1 div.sk-label input.sk-toggleable__control:checked~label.sk-toggleable__label {background-color: #d4ebff;}#sk-container-id-1 input.sk-hidden--visually {border: 0;clip: rect(1px 1px 1px 1px);clip: rect(1px, 1px, 1px, 1px);height: 1px;margin: -1px;overflow: hidden;padding: 0;position: absolute;width: 1px;}#sk-container-id-1 div.sk-estimator {font-family: monospace;background-color: #f0f8ff;border: 1px dotted black;border-radius: 0.25em;box-sizing: border-box;margin-bottom: 0.5em;}#sk-container-id-1 div.sk-estimator:hover {background-color: #d4ebff;}#sk-container-id-1 div.sk-parallel-item::after {content: \"\";width: 100%;border-bottom: 1px solid gray;flex-grow: 1;}#sk-container-id-1 div.sk-label:hover label.sk-toggleable__label {background-color: #d4ebff;}#sk-container-id-1 div.sk-serial::before {content: \"\";position: absolute;border-left: 1px solid gray;box-sizing: border-box;top: 0;bottom: 0;left: 50%;z-index: 0;}#sk-container-id-1 div.sk-serial {display: flex;flex-direction: column;align-items: center;background-color: white;padding-right: 0.2em;padding-left: 0.2em;position: relative;}#sk-container-id-1 div.sk-item {position: relative;z-index: 1;}#sk-container-id-1 div.sk-parallel {display: flex;align-items: stretch;justify-content: center;background-color: white;position: relative;}#sk-container-id-1 div.sk-item::before, #sk-container-id-1 div.sk-parallel-item::before {content: \"\";position: absolute;border-left: 1px solid gray;box-sizing: border-box;top: 0;bottom: 0;left: 50%;z-index: -1;}#sk-container-id-1 div.sk-parallel-item {display: flex;flex-direction: column;z-index: 1;position: relative;background-color: white;}#sk-container-id-1 div.sk-parallel-item:first-child::after {align-self: flex-end;width: 50%;}#sk-container-id-1 div.sk-parallel-item:last-child::after {align-self: flex-start;width: 50%;}#sk-container-id-1 div.sk-parallel-item:only-child::after {width: 0;}#sk-container-id-1 div.sk-dashed-wrapped {border: 1px dashed gray;margin: 0 0.4em 0.5em 0.4em;box-sizing: border-box;padding-bottom: 0.4em;background-color: white;}#sk-container-id-1 div.sk-label label {font-family: monospace;font-weight: bold;display: inline-block;line-height: 1.2em;}#sk-container-id-1 div.sk-label-container {text-align: center;}#sk-container-id-1 div.sk-container {/* jupyter's `normalize.less` sets `[hidden] { display: none; }` but bootstrap.min.css set `[hidden] { display: none !important; }` so we also need the `!important` here to be able to override the default hidden behavior on the sphinx rendered scikit-learn.org. See: https://github.com/scikit-learn/scikit-learn/issues/21755 */display: inline-block !important;position: relative;}#sk-container-id-1 div.sk-text-repr-fallback {display: none;}</style><div id=\"sk-container-id-1\" class=\"sk-top-container\"><div class=\"sk-text-repr-fallback\"><pre>GridSearchCV(estimator=SVR(),\n",
       "             param_grid={&#x27;C&#x27;: [0.1, 1, 10, 100, 1000],\n",
       "                         &#x27;gamma&#x27;: [1, 0.1, 0.01, 0.001, 0.0001],\n",
       "                         &#x27;kernel&#x27;: [&#x27;rbf&#x27;]},\n",
       "             verbose=3)</pre><b>In a Jupyter environment, please rerun this cell to show the HTML representation or trust the notebook. <br />On GitHub, the HTML representation is unable to render, please try loading this page with nbviewer.org.</b></div><div class=\"sk-container\" hidden><div class=\"sk-item sk-dashed-wrapped\"><div class=\"sk-label-container\"><div class=\"sk-label sk-toggleable\"><input class=\"sk-toggleable__control sk-hidden--visually\" id=\"sk-estimator-id-1\" type=\"checkbox\" ><label for=\"sk-estimator-id-1\" class=\"sk-toggleable__label sk-toggleable__label-arrow\">GridSearchCV</label><div class=\"sk-toggleable__content\"><pre>GridSearchCV(estimator=SVR(),\n",
       "             param_grid={&#x27;C&#x27;: [0.1, 1, 10, 100, 1000],\n",
       "                         &#x27;gamma&#x27;: [1, 0.1, 0.01, 0.001, 0.0001],\n",
       "                         &#x27;kernel&#x27;: [&#x27;rbf&#x27;]},\n",
       "             verbose=3)</pre></div></div></div><div class=\"sk-parallel\"><div class=\"sk-parallel-item\"><div class=\"sk-item\"><div class=\"sk-label-container\"><div class=\"sk-label sk-toggleable\"><input class=\"sk-toggleable__control sk-hidden--visually\" id=\"sk-estimator-id-2\" type=\"checkbox\" ><label for=\"sk-estimator-id-2\" class=\"sk-toggleable__label sk-toggleable__label-arrow\">estimator: SVR</label><div class=\"sk-toggleable__content\"><pre>SVR()</pre></div></div></div><div class=\"sk-serial\"><div class=\"sk-item\"><div class=\"sk-estimator sk-toggleable\"><input class=\"sk-toggleable__control sk-hidden--visually\" id=\"sk-estimator-id-3\" type=\"checkbox\" ><label for=\"sk-estimator-id-3\" class=\"sk-toggleable__label sk-toggleable__label-arrow\">SVR</label><div class=\"sk-toggleable__content\"><pre>SVR()</pre></div></div></div></div></div></div></div></div></div></div>"
      ],
      "text/plain": [
       "GridSearchCV(estimator=SVR(),\n",
       "             param_grid={'C': [0.1, 1, 10, 100, 1000],\n",
       "                         'gamma': [1, 0.1, 0.01, 0.001, 0.0001],\n",
       "                         'kernel': ['rbf']},\n",
       "             verbose=3)"
      ]
     },
     "execution_count": 25,
     "metadata": {},
     "output_type": "execute_result"
    }
   ],
   "source": [
    "from sklearn.svm import SVR\n",
    "from sklearn.model_selection import GridSearchCV\n",
    "\n",
    "svr = SVR()\n",
    "\n",
    "params_grid = {'C': [0.1, 1, 10, 100, 1000],\n",
    "              'gamma': [1, 0.1, 0.01, 0.001, 0.0001],\n",
    "              'kernel':['rbf']}\n",
    "\n",
    "grid = GridSearchCV(SVR(), params_grid, refit = True, verbose=3)\n",
    "grid.fit(X_train, y_train)"
   ]
  },
  {
   "cell_type": "code",
   "execution_count": null,
   "id": "7bd9acc6",
   "metadata": {},
   "outputs": [],
   "source": [
    "svr = SVR(C=10, gamma = 0.01,  kernel = 'rbf')\n",
    "svr.fit(X_train, y_train)\n",
    "svr_pred = svr.predict(X_test)\n"
   ]
  }
 ],
 "metadata": {
  "kernelspec": {
   "display_name": "Python 3 (ipykernel)",
   "language": "python",
   "name": "python3"
  },
  "language_info": {
   "codemirror_mode": {
    "name": "ipython",
    "version": 3
   },
   "file_extension": ".py",
   "mimetype": "text/x-python",
   "name": "python",
   "nbconvert_exporter": "python",
   "pygments_lexer": "ipython3",
   "version": "3.10.0"
  }
 },
 "nbformat": 4,
 "nbformat_minor": 5
}
